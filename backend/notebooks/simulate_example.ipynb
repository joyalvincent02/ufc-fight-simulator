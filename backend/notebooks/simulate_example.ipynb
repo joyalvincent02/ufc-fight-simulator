{
 "cells": [
  {
   "cell_type": "code",
   "execution_count": 29,
   "id": "35de13f2-9091-4e21-b6c1-bfa288036350",
   "metadata": {},
   "outputs": [],
   "source": [
    "import json\n",
    "import os\n",
    "import sys\n",
    "import importlib\n",
    "\n",
    "sys.path.append(os.path.abspath(\"../src\"))\n",
    "\n",
    "import fighter_scraper\n",
    "importlib.reload(fighter_scraper)\n",
    "\n",
    "from fight_model import calculate_exchange_probabilities\n",
    "from simulate_fight import simulate_fight\n",
    "from ufc_scraper import get_upcoming_event_links, get_fight_card\n",
    "from fighter_scraper import scrape_fighter_stats, save_fighter_to_db"
   ]
  },
  {
   "cell_type": "code",
   "execution_count": 18,
   "id": "29474d0a-c153-47ec-9ab6-62e972ffd72c",
   "metadata": {},
   "outputs": [],
   "source": [
    "# Load fighter stats from JSON\n",
    "with open(\"../data/topuria_vs_oliveira.json\", \"r\") as file:\n",
    "    data = json.load(file)\n",
    "\n",
    "stats_A = data[\"FighterA\"]\n",
    "stats_B = data[\"FighterB\"]\n",
    "name_A = stats_A[\"Name\"]\n",
    "name_B = stats_B[\"Name\"]"
   ]
  },
  {
   "cell_type": "code",
   "execution_count": 19,
   "id": "c9a5dabf-3d35-4823-b6cf-5c7280c9e5f1",
   "metadata": {},
   "outputs": [
    {
     "name": "stdout",
     "output_type": "stream",
     "text": [
      "Exchange Probabilities:\n",
      "Topuria: 0.330\n",
      "Oliveira: 0.270\n",
      "Neutral: 0.400\n"
     ]
    }
   ],
   "source": [
    "P_A, P_B, P_neutral = calculate_exchange_probabilities(stats_A, stats_B)\n",
    "\n",
    "print(\"Exchange Probabilities:\")\n",
    "print(f\"{name_A}: {P_A:.3f}\")\n",
    "print(f\"{name_B}: {P_B:.3f}\")\n",
    "print(f\"Neutral: {P_neutral:.3f}\")"
   ]
  },
  {
   "cell_type": "code",
   "execution_count": 20,
   "id": "20e22816-cd59-469f-ba2c-99ac63e811d0",
   "metadata": {},
   "outputs": [
    {
     "name": "stdout",
     "output_type": "stream",
     "text": [
      "\n",
      "Simulation Results (1000 Fights):\n",
      "Topuria: 58.9%\n",
      "Oliveira: 25.7%\n",
      "Draw: 15.4%\n"
     ]
    }
   ],
   "source": [
    "results = simulate_fight(P_A, P_B, P_neutral, num_rounds=5, name_A=name_A, name_B=name_B)\n",
    "\n",
    "print(\"\\nSimulation Results (1000 Fights):\")\n",
    "for fighter, percentage in results.items():\n",
    "    print(f\"{fighter}: {percentage:.1f}%\")"
   ]
  },
  {
   "cell_type": "code",
   "execution_count": 21,
   "id": "bf897370-a6cf-453c-aa63-471474268b8c",
   "metadata": {},
   "outputs": [
    {
     "name": "stdout",
     "output_type": "stream",
     "text": [
      "Upcoming Events:\n",
      "1. http://ufcstats.com/event-details/7b03d9df5910917d\n",
      "2. http://ufcstats.com/event-details/b8e2f10efb6eca85\n",
      "3. http://ufcstats.com/event-details/28d8638ea0a71908\n",
      "4. http://ufcstats.com/event-details/f2c934689243fe4e\n",
      "5. http://ufcstats.com/event-details/6cd3dfc54f01287f\n",
      "6. http://ufcstats.com/event-details/421ccfc6ddb17958\n",
      "7. http://ufcstats.com/event-details/754968e325d6f60d\n",
      "8. http://ufcstats.com/event-details/6e380a4d73ab4f0e\n",
      "9. http://ufcstats.com/event-details/5efaaf313b652dd7\n"
     ]
    }
   ],
   "source": [
    "# Get upcoming events\n",
    "event_links = get_upcoming_event_links()\n",
    "print(\"Upcoming Events:\")\n",
    "for i, link in enumerate(event_links, 1):\n",
    "    print(f\"{i}. {link}\")"
   ]
  },
  {
   "cell_type": "code",
   "execution_count": 22,
   "id": "cd7f9654-9b51-468c-b938-825720ada123",
   "metadata": {},
   "outputs": [
    {
     "name": "stdout",
     "output_type": "stream",
     "text": [
      "\n",
      "Fight Card:\n",
      "Derrick Lewis vs Tallison Teixeira\n",
      "Stephen Thompson vs Gabriel Bonfim\n",
      "Calvin Kattar vs Steve Garcia\n",
      "Nate Landwehr vs Morgan Charriere\n",
      "Vitor Petrino vs Austen Lane\n",
      "Junior Tafa vs Tuco Tokkos\n",
      "Max Griffin vs Chris Curtis\n",
      "Jake Matthews vs Chidi Njokuani\n",
      "Lauren Murphy vs Eduarda Moura\n",
      "Kennedy Nzechukwu vs Valter Walker\n",
      "Mitch Ramirez vs Mike Davis\n",
      "Fatima Kline vs Melissa Martinez\n"
     ]
    }
   ],
   "source": [
    "# Get fight card from first event\n",
    "if event_links:\n",
    "    fight_card = get_fight_card(event_links[0])\n",
    "    print(\"\\nFight Card:\")\n",
    "    for fighter_a, fighter_b in fight_card:\n",
    "        print(f\"{fighter_a} vs {fighter_b}\")\n",
    "else:\n",
    "    print(\"No events found.\")"
   ]
  },
  {
   "cell_type": "code",
   "execution_count": 23,
   "id": "dd99b067-cc54-4177-9dbf-69cd972d515d",
   "metadata": {},
   "outputs": [],
   "source": [
    "from db import init_db\n",
    "init_db()"
   ]
  },
  {
   "cell_type": "code",
   "execution_count": 31,
   "id": "a3f56792-fe2c-4be8-b0bb-89d074dc631f",
   "metadata": {},
   "outputs": [
    {
     "name": "stdout",
     "output_type": "stream",
     "text": [
      "{'name': 'Derrick Lewis', 'profile_url': 'http://ufcstats.com/fighter-details/d3df1add9d9a7efb', 'slpm': 2.48, 'str_acc': 0.5, 'str_def': 0.4, 'td_avg': 0.57, 'td_acc': 0.26, 'td_def': 0.52, 'sub_avg': 0.0, 'last_updated': datetime.datetime(2025, 6, 29, 12, 46, 23, 208707)}\n",
      "✅ Derrick Lewis added to DB.\n"
     ]
    }
   ],
   "source": [
    "from fighter_scraper import scrape_fighter_stats, save_fighter_to_db\n",
    "\n",
    "stats = scrape_fighter_stats(\"Derrick Lewis\", \"http://ufcstats.com/fighter-details/d3df1add9d9a7efb\")\n",
    "print(stats)\n",
    "\n",
    "if stats:\n",
    "    save_fighter_to_db(stats)"
   ]
  },
  {
   "cell_type": "code",
   "execution_count": null,
   "id": "8eefb606-d53c-4271-a600-c90328227133",
   "metadata": {},
   "outputs": [],
   "source": []
  }
 ],
 "metadata": {
  "kernelspec": {
   "display_name": "Python 3 (ipykernel)",
   "language": "python",
   "name": "python3"
  },
  "language_info": {
   "codemirror_mode": {
    "name": "ipython",
    "version": 3
   },
   "file_extension": ".py",
   "mimetype": "text/x-python",
   "name": "python",
   "nbconvert_exporter": "python",
   "pygments_lexer": "ipython3",
   "version": "3.13.3"
  }
 },
 "nbformat": 4,
 "nbformat_minor": 5
}
